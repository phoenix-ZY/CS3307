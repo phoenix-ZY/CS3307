{
 "cells": [
  {
   "cell_type": "code",
   "execution_count": 4,
   "metadata": {},
   "outputs": [
    {
     "name": "stdout",
     "output_type": "stream",
     "text": [
      "144\n",
      "tensor([[  101,  2074,  2288,  ...,     0,     0,     0],\n",
      "        [  101,  1045,  2074,  ...,     0,     0,     0],\n",
      "        [  101,  2003, 16054,  ...,     0,     0,     0],\n",
      "        ...,\n",
      "        [  101,  5980, 23745,  ...,     0,     0,     0],\n",
      "        [  101,  1045,  5034,  ...,     0,     0,     0],\n",
      "        [  101,  2009,  1005,  ...,     0,     0,     0]])\n"
     ]
    }
   ],
   "source": [
    "import numpy as np\n",
    "import pandas as pd\n",
    "test_data = pd.read_csv(\"data/testdata.manual.2009.06.14.csv\" ,names=[\"情绪\", \"编号\", \"日期\", \"平台\",\"名称\", \"评论\"],encoding = \"ISO-8859-1\")\n",
    "from utils import *\n",
    "sentences, labels = preprocess(test_data)\n",
    "from transformers import DistilBertTokenizerFast\n",
    "from torch.utils.data import Dataset,DataLoader\n",
    "tokenizer =DistilBertTokenizerFast.from_pretrained(\"models/distilbert-base-uncased\")\n",
    "tokenizer(sentences[0])\n",
    "from datasets import SentimentDataset\n",
    "dataset = SentimentDataset(test_data)\n",
    "batch_size = 32\n",
    "train_dataloader = DataLoader(dataset, batch_size=batch_size, shuffle=True)\n",
    "for batch in train_dataloader:\n",
    "    print(batch['sentence'])\n",
    "    break"
   ]
  },
  {
   "cell_type": "code",
   "execution_count": 2,
   "metadata": {},
   "outputs": [
    {
     "name": "stdout",
     "output_type": "stream",
     "text": [
      "torch.Size([50])\n",
      "torch.Size([50])\n"
     ]
    }
   ],
   "source": [
    "time = 0\n",
    "for i in dataset:\n",
    "    print(i[\"sentence\"].shape)\n",
    "    time +=1\n",
    "    if time == 2:\n",
    "        break"
   ]
  },
  {
   "cell_type": "code",
   "execution_count": 11,
   "metadata": {},
   "outputs": [
    {
     "data": {
      "text/plain": [
       "{'input_ids': [101, 2017, 2024, 2026, 2814, 102, 0, 0, 0, 0, 0, 0, 0, 0, 0, 0, 0, 0, 0, 0], 'attention_mask': [1, 1, 1, 1, 1, 1, 0, 0, 0, 0, 0, 0, 0, 0, 0, 0, 0, 0, 0, 0]}"
      ]
     },
     "execution_count": 11,
     "metadata": {},
     "output_type": "execute_result"
    }
   ],
   "source": []
  },
  {
   "cell_type": "code",
   "execution_count": null,
   "metadata": {},
   "outputs": [],
   "source": []
  },
  {
   "cell_type": "code",
   "execution_count": null,
   "metadata": {},
   "outputs": [
    {
     "ename": "ImportError",
     "evalue": "cannot import name 'preprocess0' from 'preprocess' (d:\\study\\大三上\\互联网信息抽取技术\\CS3307\\preprocess.py)",
     "output_type": "error",
     "traceback": [
      "\u001b[1;31m---------------------------------------------------------------------------\u001b[0m\n",
      "\u001b[1;31mImportError\u001b[0m                               Traceback (most recent call last)\n",
      "\u001b[1;32m~\\AppData\\Local\\Temp\\ipykernel_17752\\1237664074.py\u001b[0m in \u001b[0;36m<module>\u001b[1;34m\u001b[0m\n",
      "\u001b[1;32m----> 1\u001b[1;33m \u001b[1;32mfrom\u001b[0m \u001b[0mpreprocess\u001b[0m \u001b[1;32mimport\u001b[0m \u001b[0mpreprocess0\u001b[0m\u001b[1;33m\u001b[0m\u001b[1;33m\u001b[0m\u001b[0m\n",
      "\u001b[0m\n",
      "\u001b[1;31mImportError\u001b[0m: cannot import name 'preprocess0' from 'preprocess' (d:\\study\\大三上\\互联网信息抽取技术\\CS3307\\preprocess.py)"
     ]
    }
   ],
   "source": []
  }
 ],
 "metadata": {
  "kernelspec": {
   "display_name": "pytorch",
   "language": "python",
   "name": "python3"
  },
  "language_info": {
   "codemirror_mode": {
    "name": "ipython",
    "version": 3
   },
   "file_extension": ".py",
   "mimetype": "text/x-python",
   "name": "python",
   "nbconvert_exporter": "python",
   "pygments_lexer": "ipython3",
   "version": "3.7.15"
  }
 },
 "nbformat": 4,
 "nbformat_minor": 2
}
